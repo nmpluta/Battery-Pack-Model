{
 "cells": [
  {
   "cell_type": "markdown",
   "metadata": {},
   "source": [
    "# Lithium-ion battery cell State of Health model"
   ]
  },
  {
   "cell_type": "markdown",
   "metadata": {},
   "source": [
    "\n",
    "## Introduction\n",
    "\n",
    "When using a battery based on lithium-ion battery cells, it's important to monitor how these energy cells deprecate over time. This can be done by tracking the value of different parameters such as State of Health (SoH). This is the ratio of the discharge capacity of the cell and it's rated capacity. The formula for it is:\n",
    "$$SoH = \\frac{C_{discharge}}{C_{rated}}$$\n",
    "The rated capacity $C_{rated}$ for a lion cell is constant and the discharge capacity $C_{discharge}$ changes with battery usage, so by estimating the discharge capacity we can get SoH, which will tell us about battery usage.\n",
    "  \n",
    "The aim of this project is to estimate the SoH of a lion battery cell based on discharge data features. Through data exploration (see notebook titled `discharge_data_visualization.ipynb`) we came to a conclusion that a model which predicts battery SoH based on the discharge current, voltage and/or temperature timeseries may be a good fit to perform this task.  \n",
    "\n",
    "The models we propose here focus on features extracted from timeseries of current, voltage and temperature measurements.\n",
    "\n",
    "Conveniently, the NASA battery dataset is fitting for this task, as it contains a huge number of measurements of discharge current, voltage, temperature as timeseries and, most importantly, the discharge capacity we're interested in.\n",
    "\n",
    "This means that via careful feature extraction from these timeseries we can test the proposed models.\n"
   ]
  },
  {
   "cell_type": "markdown",
   "metadata": {},
   "source": [
    "\n",
    "## Data\n",
    "\n",
    "The NASA battery dataset ([link - using an already pre-processed version to accelerate data exploration](https://www.kaggle.com/datasets/patrickfleith/nasa-battery-dataset)) provides all required data to begin feature extraction. Those contain battery voltage, current and temperature under constant load of -2[A]. The measurements start with the battery full, at 4.2[V] and go all the way to it's lowest safe discharge voltage of around 2.4-2.7[V], depending on the exact battery.  \n",
    "\n",
    "Our goal is to prepare a model general enough to include all types of battery cells, which is why we will be experimenting with a number of features. Those are:\n",
    "1. Starting voltage.\n",
    "2. End voltage.\n",
    "3. Time under load (constant current peak to peak time).\n",
    "4. TODO(treborsky): update the features as we include more of them in the models\n",
    "5. ...\n",
    "6. ...\n",
    "\n",
    "The method and calculation of the features is described in more detail below, next to the implementation.\n"
   ]
  },
  {
   "cell_type": "markdown",
   "metadata": {},
   "source": [
    "\n",
    "## DAG\n",
    "\n",
    "TODO(treborsky): prepare the DAG for our data\n"
   ]
  },
  {
   "cell_type": "markdown",
   "metadata": {},
   "source": [
    "## Data Extraction"
   ]
  },
  {
   "cell_type": "code",
   "execution_count": 2,
   "metadata": {},
   "outputs": [
    {
     "name": "stderr",
     "output_type": "stream",
     "text": [
      "100%|██████████| 7565/7565 [00:02<00:00, 2732.66it/s] \n"
     ]
    }
   ],
   "source": [
    "import pandas as pd\n",
    "import csv\n",
    "from tqdm import tqdm\n",
    "\n",
    "# Picked data\n",
    "picked_data = {\n",
    "    'battery_id': ['B0005', 'B0006', 'B0007'],\n",
    "    'type': ['discharge']\n",
    "}\n",
    "\n",
    "metadata_path = 'cleaned_dataset/metadata.csv'\n",
    "data = {}\n",
    "\n",
    "# Read metadata.csv and creating data dictionary\n",
    "with open(metadata_path, 'r') as file:\n",
    "    reader = csv.DictReader(file)\n",
    "    for row in reader:\n",
    "        battery_id = row['battery_id']\n",
    "        if battery_id in picked_data['battery_id']:\n",
    "            data[battery_id] = {\n",
    "                'charge': {},\n",
    "                'discharge': {},\n",
    "                'impedance': {}\n",
    "            }\n",
    "\n",
    "data_path = 'cleaned_dataset/data/'\n",
    "\n",
    "cycle_ids = {\n",
    "    'charge': 0,\n",
    "    'discharge': 0,\n",
    "    'impedance': 0\n",
    "}\n",
    "\n",
    "# Read and store metadata information for analyzed batteries\n",
    "metadata = pd.read_csv('cleaned_dataset/metadata.csv')\n",
    "\n",
    "# Create a progress bar\n",
    "pbar = tqdm(total=len(metadata))\n",
    "\n",
    "# Iterate over each row in the metadata dataframe\n",
    "for index, row in metadata.iterrows():\n",
    "    if index == 0:\n",
    "        metadata_headers = row.keys()\n",
    "\n",
    "    if row['battery_id'] != battery_id:\n",
    "        cycle_ids = {\n",
    "            'charge': 0,\n",
    "            'discharge': 0,\n",
    "            'impedance': 0\n",
    "        }\n",
    "    type = row['type']\n",
    "    cycle_id = cycle_ids[type]\n",
    "    battery_id = row['battery_id']\n",
    "\n",
    "    if type in picked_data['type'] and battery_id in picked_data['battery_id']:\n",
    "        values_metadata = {}\n",
    "        # To values append non-empty values of metadata headers\n",
    "        for header in metadata_headers:\n",
    "            if row[header] != '':\n",
    "                values_metadata[header] = row[header]\n",
    "\n",
    "        filename = row['filename']\n",
    "\n",
    "        with open(data_path+filename, 'r') as csvfile:\n",
    "            csvreader = csv.DictReader(csvfile)\n",
    "            headers = csvreader.fieldnames\n",
    "            values = {header: [] for header in headers}\n",
    "            for row in csvreader:\n",
    "                for header in headers:\n",
    "                    values[header].append(row[header])\n",
    "            \n",
    "            # Concatenate metadata and data values\n",
    "            values = {**values_metadata, **values}\n",
    "            data[battery_id][type][cycle_id] = values\n",
    "            csvfile.close()\n",
    "        cycle_ids[type] += 1\n",
    "\n",
    "    # Update the progress bar\n",
    "    pbar.update(1)\n",
    "\n",
    "# Close the progress bar\n",
    "pbar.close()\n"
   ]
  },
  {
   "cell_type": "markdown",
   "metadata": {},
   "source": [
    "## Data preprocessing\n",
    "\n",
    "The extraction of features is done in a common way for all datasets for all batteries."
   ]
  },
  {
   "cell_type": "markdown",
   "metadata": {},
   "source": [
    "TODO(treborsky): Add feature extraction. Start with the ones already defined, build the first model (ppc, then fit) and go back here to update if more features needed/wanted."
   ]
  },
  {
   "cell_type": "code",
   "execution_count": 3,
   "metadata": {},
   "outputs": [],
   "source": [
    "from feature_extraction import features\n",
    "import numpy as np\n",
    "\n",
    "# function array string to array float\n",
    "def array_str_to_float(array_str):\n",
    "    array_float = []\n",
    "    for i in range(len(array_str)):\n",
    "        array_float.append(float(array_str[i]))\n",
    "    return array_float\n",
    "\n",
    "# add features to data dictionary\n",
    "for battery_id in data.keys():\n",
    "    for type in data[battery_id].keys():\n",
    "        for cycle_id in data[battery_id][type].keys():\n",
    "            if type == 'discharge':\n",
    "                data[battery_id][type][cycle_id]['start_voltage'] = features.get_start_voltage(\n",
    "                    pd.Index(array_str_to_float(data[battery_id][type][cycle_id]['Voltage_measured'])))\n",
    "                data[battery_id][type][cycle_id]['stop_voltage'] = features.get_stop_voltage(\n",
    "                    pd.Index(array_str_to_float(data[battery_id][type][cycle_id]['Voltage_measured'])))\n",
    "                data[battery_id][type][cycle_id]['current_ptp'] = features.get_current_ptp(\n",
    "                    pd.Index(array_str_to_float(data[battery_id][type][cycle_id]['Current_measured'])),\n",
    "                    pd.Index(array_str_to_float(data[battery_id][type][cycle_id]['Time'])))\n"
   ]
  },
  {
   "cell_type": "markdown",
   "metadata": {},
   "source": [
    "## Models"
   ]
  },
  {
   "cell_type": "markdown",
   "metadata": {},
   "source": [
    "### Model 1\n",
    "\n",
    "The first model uses only the features that are the easiest to extract from existing data. Those are:\n",
    "1. Start voltage - $x_0$.\n",
    "2. End voltage - $x_1$.\n",
    "3. Time under load (constant discharge current peak to peak time) - $x_2$.\n",
    "\n",
    "Let's say this data forms a vector $X_1 = \\begin{bmatrix} x_0 \\\\ x_1 \\\\ x_2 \\end{bmatrix} $\n",
    "\n",
    "$$ y \\sim Normal(\\alpha + \\beta\\cdot X, \\sigma) $$"
   ]
  },
  {
   "cell_type": "markdown",
   "metadata": {},
   "source": []
  }
 ],
 "metadata": {
  "kernelspec": {
   "display_name": "Python 3",
   "language": "python",
   "name": "python3"
  },
  "language_info": {
   "codemirror_mode": {
    "name": "ipython",
    "version": 3
   },
   "file_extension": ".py",
   "mimetype": "text/x-python",
   "name": "python",
   "nbconvert_exporter": "python",
   "pygments_lexer": "ipython3",
   "version": "3.9.11"
  },
  "orig_nbformat": 4
 },
 "nbformat": 4,
 "nbformat_minor": 2
}
