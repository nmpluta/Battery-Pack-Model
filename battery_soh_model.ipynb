{
 "cells": [
  {
   "cell_type": "markdown",
   "metadata": {},
   "source": [
    "# Lithium-ion battery cell State of Health model"
   ]
  },
  {
   "cell_type": "markdown",
   "metadata": {},
   "source": [
    "\n",
    "## Introduction\n",
    "\n",
    "When using a battery based on lithium-ion battery cells, it's important to monitor how these energy cells deprecate over time. This can be done by tracking the value of different parameters such as State of Health (SoH). This is the ratio of the discharge capacity of the cell and it's rated capacity. The formula for it is:\n",
    "$$SoH = \\frac{C_{discharge}}{C_{rated}}$$\n",
    "The rated capacity $C_{rated}$ for a lion cell is constant and the discharge capacity $C_{discharge}$ changes with battery usage, so by estimating the discharge capacity we can get SoH, which will tell us about battery usage.\n",
    "  \n",
    "The aim of this project is to estimate the SoH of a lion battery cell based on discharge data features. Through data exploration (see notebook titled `discharge_data_visualization.ipynb`) we came to a conclusion that a model which predicts battery SoH based on the discharge current, voltage and/or temperature timeseries may be a good fit to perform this task.  \n",
    "\n",
    "The models we propose here focus on features extracted from timeseries of current, voltage and temperature measurements.\n",
    "\n",
    "Conveniently, the NASA battery dataset is fitting for this task, as it contains a huge number of measurements of discharge current, voltage, temperature as timeseries and, most importantly, the discharge capacity we're interested in.\n",
    "\n",
    "This means that via careful feature extraction from these timeseries we can test the proposed models.\n"
   ]
  },
  {
   "cell_type": "markdown",
   "metadata": {},
   "source": [
    "\n",
    "## Data\n",
    "\n",
    "The NASA battery dataset ([link - using an already pre-processed version to accelerate data exploration](https://www.kaggle.com/datasets/patrickfleith/nasa-battery-dataset)) provides all required data to begin feature extraction. Those contain battery voltage, current and temperature under constant load of -2[A]. The measurements start with the battery full, at 4.2[V] and go all the way to it's lowest safe discharge voltage of around 2.4-2.7[V], depending on the exact battery.  \n",
    "\n",
    "Our goal is to prepare a model general enough to include all types of battery cells, which is why we will be experimenting with a number of features. Those are:\n",
    "1. Starting voltage.\n",
    "2. End voltage.\n",
    "3. Time under load (constant current peak to peak time).\n",
    "4. TODO(treborsky): update the features as we include more of them in the models\n",
    "5. ...\n",
    "6. ...\n",
    "\n",
    "The method and calculation of the features is described in more detail below, next to the implementation.\n"
   ]
  },
  {
   "cell_type": "markdown",
   "metadata": {},
   "source": [
    "\n",
    "## DAG\n",
    "\n",
    "TODO(treborsky): prepare the DAG for our data\n"
   ]
  },
  {
   "cell_type": "markdown",
   "metadata": {},
   "source": [
    "## Data preprocessing\n",
    "\n",
    "The extraction of features is done in a common way for all datasets for all batteries."
   ]
  },
  {
   "cell_type": "markdown",
   "metadata": {},
   "source": [
    "TODO(treborsky): Add feature extraction. Start with the ones already defined, build the first model (ppc, then fit) and go back here to update if more features needed/wanted."
   ]
  },
  {
   "cell_type": "markdown",
   "metadata": {},
   "source": [
    "## Models"
   ]
  },
  {
   "cell_type": "markdown",
   "metadata": {},
   "source": [
    "### Model 1\n",
    "\n",
    "The first model uses only the features that are the easiest to extract from existing data. Those are:\n",
    "1. Start voltage - $x_0$.\n",
    "2. End voltage - $x_1$.\n",
    "3. Time under load (constant discharge current peak to peak time) - $x_2$.\n",
    "\n",
    "Let's say this data forms a vector $X_1 = \\begin{bmatrix} x_0 \\\\ x_1 \\\\ x_2 \\end{bmatrix} $\n",
    "\n",
    "$$ y \\sim Normal(\\alpha + \\beta\\cdot X, \\sigma) $$"
   ]
  }
 ],
 "metadata": {
  "language_info": {
   "name": "python"
  },
  "orig_nbformat": 4
 },
 "nbformat": 4,
 "nbformat_minor": 2
}
