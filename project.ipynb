{
 "cells": [
  {
   "cell_type": "code",
   "execution_count": 2,
   "metadata": {},
   "outputs": [],
   "source": [
    "from cmdstanpy import CmdStanModel\n",
    "\n",
    "import arviz as az\n",
    "import numpy as np\n",
    "import scipy.stats as stats\n",
    "\n",
    "import matplotlib.pyplot as plt\n",
    "import pandas as pd"
   ]
  },
  {
   "cell_type": "code",
   "execution_count": 3,
   "metadata": {},
   "outputs": [
    {
     "data": {
      "text/html": [
       "<div>\n",
       "<style scoped>\n",
       "    .dataframe tbody tr th:only-of-type {\n",
       "        vertical-align: middle;\n",
       "    }\n",
       "\n",
       "    .dataframe tbody tr th {\n",
       "        vertical-align: top;\n",
       "    }\n",
       "\n",
       "    .dataframe thead th {\n",
       "        text-align: right;\n",
       "    }\n",
       "</style>\n",
       "<table border=\"1\" class=\"dataframe\">\n",
       "  <thead>\n",
       "    <tr style=\"text-align: right;\">\n",
       "      <th></th>\n",
       "      <th>Voltage_measured</th>\n",
       "      <th>Current_measured</th>\n",
       "      <th>Temperature_measured</th>\n",
       "      <th>Current_charge</th>\n",
       "      <th>Voltage_charge</th>\n",
       "      <th>Time</th>\n",
       "    </tr>\n",
       "  </thead>\n",
       "  <tbody>\n",
       "    <tr>\n",
       "      <th>0</th>\n",
       "      <td>3.486189</td>\n",
       "      <td>0.001417</td>\n",
       "      <td>5.990142</td>\n",
       "      <td>-0.0006</td>\n",
       "      <td>0.002</td>\n",
       "      <td>0.000</td>\n",
       "    </tr>\n",
       "    <tr>\n",
       "      <th>1</th>\n",
       "      <td>3.746592</td>\n",
       "      <td>1.489057</td>\n",
       "      <td>5.992528</td>\n",
       "      <td>1.4995</td>\n",
       "      <td>4.618</td>\n",
       "      <td>2.594</td>\n",
       "    </tr>\n",
       "    <tr>\n",
       "      <th>2</th>\n",
       "      <td>3.775438</td>\n",
       "      <td>1.490426</td>\n",
       "      <td>5.991340</td>\n",
       "      <td>1.4995</td>\n",
       "      <td>4.669</td>\n",
       "      <td>8.922</td>\n",
       "    </tr>\n",
       "    <tr>\n",
       "      <th>3</th>\n",
       "      <td>3.794844</td>\n",
       "      <td>1.491527</td>\n",
       "      <td>6.003554</td>\n",
       "      <td>1.4995</td>\n",
       "      <td>4.694</td>\n",
       "      <td>15.234</td>\n",
       "    </tr>\n",
       "    <tr>\n",
       "      <th>4</th>\n",
       "      <td>3.811691</td>\n",
       "      <td>1.491425</td>\n",
       "      <td>6.026729</td>\n",
       "      <td>1.4995</td>\n",
       "      <td>4.707</td>\n",
       "      <td>21.516</td>\n",
       "    </tr>\n",
       "  </tbody>\n",
       "</table>\n",
       "</div>"
      ],
      "text/plain": [
       "   Voltage_measured  Current_measured  Temperature_measured  Current_charge  \\\n",
       "0          3.486189          0.001417              5.990142         -0.0006   \n",
       "1          3.746592          1.489057              5.992528          1.4995   \n",
       "2          3.775438          1.490426              5.991340          1.4995   \n",
       "3          3.794844          1.491527              6.003554          1.4995   \n",
       "4          3.811691          1.491425              6.026729          1.4995   \n",
       "\n",
       "   Voltage_charge    Time  \n",
       "0           0.002   0.000  \n",
       "1           4.618   2.594  \n",
       "2           4.669   8.922  \n",
       "3           4.694  15.234  \n",
       "4           4.707  21.516  "
      ]
     },
     "execution_count": 3,
     "metadata": {},
     "output_type": "execute_result"
    }
   ],
   "source": [
    "DISCHARGE_PATH = 'sorted_dataset/discharge/'\n",
    "\n",
    "# Load first file in discharge directory\n",
    "df = pd.read_csv(DISCHARGE_PATH + '00003.csv')\n",
    "df.head()\n"
   ]
  }
 ],
 "metadata": {
  "kernelspec": {
   "display_name": "Python 3",
   "language": "python",
   "name": "python3"
  },
  "language_info": {
   "codemirror_mode": {
    "name": "ipython",
    "version": 3
   },
   "file_extension": ".py",
   "mimetype": "text/x-python",
   "name": "python",
   "nbconvert_exporter": "python",
   "pygments_lexer": "ipython3",
   "version": "3.9.11"
  },
  "orig_nbformat": 4
 },
 "nbformat": 4,
 "nbformat_minor": 2
}
