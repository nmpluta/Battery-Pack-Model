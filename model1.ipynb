{
 "cells": [
  {
   "cell_type": "code",
   "execution_count": 1,
   "metadata": {},
   "outputs": [
    {
     "name": "stderr",
     "output_type": "stream",
     "text": [
      "/usr/local/lib/python3.9/site-packages/tqdm/auto.py:22: TqdmWarning: IProgress not found. Please update jupyter and ipywidgets. See https://ipywidgets.readthedocs.io/en/stable/user_install.html\n",
      "  from .autonotebook import tqdm as notebook_tqdm\n"
     ]
    }
   ],
   "source": [
    "import numpy as np\n",
    "\n",
    "import matplotlib.pyplot as plt\n",
    "\n",
    "from load_battery_discharge_data import load_battery_test_data\n",
    "\n",
    "from cmdstanpy import CmdStanModel\n",
    "import pandas as pd"
   ]
  },
  {
   "cell_type": "code",
   "execution_count": 2,
   "metadata": {},
   "outputs": [],
   "source": [
    "root_battery_data = \"./analyzed_dataset\"\n",
    "\n",
    "battery_number = \"B0005\"\n",
    "\n",
    "metadata_path = \"./cleaned_dataset/metadata.csv\""
   ]
  },
  {
   "cell_type": "code",
   "execution_count": 3,
   "metadata": {},
   "outputs": [],
   "source": [
    "battery_datasets = load_battery_test_data(root_battery_data, battery_number, metadata_path)"
   ]
  },
  {
   "cell_type": "code",
   "execution_count": null,
   "metadata": {},
   "outputs": [],
   "source": [
    "\"\"\"Start voltage will always be the maximum value\"\"\"\n",
    "def get_start_voltage(voltage_timeseries: pd.Index):\n",
    "    return voltage_timeseries.max()\n",
    "\n",
    "\"\"\"Stop voltage will always be the minimum value\"\"\"\n",
    "def get_start_voltage(voltage_timeseries: pd.Index):\n",
    "    return voltage_timeseries.min()\n",
    "\n",
    "\"\"\"Current peak to peak time is counter from the first time\n",
    "   the load is applied to the time it's disconnected\"\"\"\n",
    "def get_current_ptp(current_timeseries: pd.Index, time_timeseries: pd.Index):\n",
    "    load_applied_idxs = current_timeseries.index[np.abs(current_timeseries - 0.1) < 0 == True].to_list()\n",
    "    # the first index in the list will give us the start time and the last one will give us the disconnection time\n",
    "    start_timestamp = time_timeseries[load_applied_idxs[0]]\n",
    "    stop_timestamp = time_timeseries[load_applied_idxs[-1]]\n",
    "    # this means peak to peak value will be the difference in time between those\n",
    "    # since we know that time can only go up, we can assume stop time is greater than start time\n",
    "    return stop_timestamp - start_timestamp\n"
   ]
  }
 ],
 "metadata": {
  "kernelspec": {
   "display_name": "Python 3",
   "language": "python",
   "name": "python3"
  },
  "language_info": {
   "codemirror_mode": {
    "name": "ipython",
    "version": 3
   },
   "file_extension": ".py",
   "mimetype": "text/x-python",
   "name": "python",
   "nbconvert_exporter": "python",
   "pygments_lexer": "ipython3",
   "version": "3.9.11"
  },
  "orig_nbformat": 4
 },
 "nbformat": 4,
 "nbformat_minor": 2
}
